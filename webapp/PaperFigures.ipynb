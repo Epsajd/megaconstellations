{
 "cells": [
  {
   "cell_type": "code",
   "execution_count": 1,
   "id": "60a80eee",
   "metadata": {},
   "outputs": [],
   "source": [
    "import numpy as np\n",
    "import mega\n",
    "import matplotlib.pyplot as plt\n",
    "from matplotlib.collections import PatchCollection\n",
    "cm = plt.cm.get_cmap('plasma_r')\n",
    "v_lim = [5, 8]"
   ]
  },
  {
   "cell_type": "code",
   "execution_count": 2,
   "id": "84a3f374",
   "metadata": {},
   "outputs": [],
   "source": [
    "sims = mega.get_simulations()"
   ]
  },
  {
   "cell_type": "code",
   "execution_count": 11,
   "id": "5c5b29c6",
   "metadata": {},
   "outputs": [],
   "source": [
    "def generate_fig(filename, latitude, months=[-3,0,3], hours=[-3,0,3], close_fig=True): \n",
    "    # latitude in degrees\n",
    "    # months since spring equinox\n",
    "    # hours since midnight\n",
    "    fig, axs = plt.subplots(3,3,figsize=(11,10), constrained_layout=True)\n",
    "    for i, hour in enumerate(hours):\n",
    "        for j, month in enumerate(months):\n",
    "            xy, mag = mega.get_stereographic_data(sims, latitude=latitude, month=month, hour=hour)\n",
    "\n",
    "            ax = axs[i][j] \n",
    "            ax.set_aspect(\"equal\")\n",
    "            r_lim = 1.02\n",
    "            ax.set_xlim(-r_lim,r_lim)\n",
    "            ax.set_ylim(-r_lim,r_lim)\n",
    "\n",
    "            # hide axes\n",
    "            ax.get_xaxis().set_ticks([])\n",
    "            ax.get_yaxis().set_ticks([])\n",
    "            for s in ax.spines:\n",
    "                ax.spines[s].set_visible(False)\n",
    "\n",
    "            # setup labels    \n",
    "            r_labels = 1.07    \n",
    "            for k, d in enumerate([\"N\",\"W\",\"S\",\"E\"]):\n",
    "                ax.text(r_labels*np.sin(k*np.pi/2.),r_labels*np.cos(k*np.pi/2.), d, ha=\"center\", va=\"center\")\n",
    "            ax.text(0.65,-0.95,\"N=%d\"%len(xy)) \n",
    "\n",
    "            # background\n",
    "            ax.add_collection(PatchCollection([plt.Circle((0, 0), 1)], zorder=-10, color=\"black\"))\n",
    "            ax.add_collection(PatchCollection([plt.Circle((0, 0), 1)], zorder=3, edgecolor=\"k\", facecolor=\"none\", lw=3))\n",
    "\n",
    "            # plot\n",
    "            im=ax.scatter(xy[:,0],xy[:,1],s=4, c=mag, cmap=cm,vmin=v_lim[0],vmax=v_lim[1])\n",
    "\n",
    "    cb = fig.colorbar(im,ax=axs,label=\"Vmag\",shrink=1./3.)\n",
    "    plt.savefig(filename,facecolor='white', transparent=False,dpi=200)\n",
    "    if close_fig:\n",
    "        plt.close(fig)"
   ]
  },
  {
   "cell_type": "code",
   "execution_count": 16,
   "id": "9c5b09de",
   "metadata": {
    "scrolled": false
   },
   "outputs": [],
   "source": [
    "generate_fig(\"PH_hawaii.pdf\", latitude=20)\n",
    "generate_fig(\"PH_eq.pdf\", latitude=0)\n",
    "generate_fig(\"PH_north.pdf\", latitude=90)\n",
    "generate_fig(\"PH_canada.pdf\", latitude=50)"
   ]
  },
  {
   "cell_type": "code",
   "execution_count": null,
   "id": "a403c6f7",
   "metadata": {},
   "outputs": [],
   "source": []
  }
 ],
 "metadata": {
  "kernelspec": {
   "display_name": "Python 3",
   "language": "python",
   "name": "python3"
  },
  "language_info": {
   "codemirror_mode": {
    "name": "ipython",
    "version": 3
   },
   "file_extension": ".py",
   "mimetype": "text/x-python",
   "name": "python",
   "nbconvert_exporter": "python",
   "pygments_lexer": "ipython3",
   "version": "3.8.2"
  }
 },
 "nbformat": 4,
 "nbformat_minor": 5
}

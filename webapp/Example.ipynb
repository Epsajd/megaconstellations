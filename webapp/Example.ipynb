{
 "cells": [
  {
   "cell_type": "code",
   "execution_count": 1,
   "id": "286e1971",
   "metadata": {},
   "outputs": [],
   "source": [
    "import mega"
   ]
  },
  {
   "cell_type": "code",
   "execution_count": 2,
   "id": "2e0b05e1",
   "metadata": {},
   "outputs": [],
   "source": [
    "sims = mega.get_simulations()"
   ]
  },
  {
   "cell_type": "code",
   "execution_count": 5,
   "id": "4a6a241a",
   "metadata": {},
   "outputs": [],
   "source": [
    "xy, mag = mega.get_stereographic_data(sims,latitude=90,tilt=0,hour=0)"
   ]
  },
  {
   "cell_type": "code",
   "execution_count": null,
   "id": "101654e9",
   "metadata": {},
   "outputs": [],
   "source": [
    "fig = Figure()\n",
    "ax = fig.add_subplot(1, 1, 1)\n",
    "\n",
    "ax.set_aspect(\"equal\")\n",
    "plot_size = 1.1\n",
    "ax.set_xlim(-plot_size,plot_size)\n",
    "ax.set_ylim(-plot_size,plot_size)\n",
    "ax.get_xaxis().set_ticks([])\n",
    "ax.get_yaxis().set_ticks([])\n",
    "ax.spines['left'].set_visible(False)\n",
    "ax.spines['top'].set_visible(False)\n",
    "ax.spines['right'].set_visible(False)\n",
    "ax.spines['bottom'].set_visible(False)\n",
    "\n"
   ]
  }
 ],
 "metadata": {
  "kernelspec": {
   "display_name": "Python 3",
   "language": "python",
   "name": "python3"
  },
  "language_info": {
   "codemirror_mode": {
    "name": "ipython",
    "version": 3
   },
   "file_extension": ".py",
   "mimetype": "text/x-python",
   "name": "python",
   "nbconvert_exporter": "python",
   "pygments_lexer": "ipython3",
   "version": "3.8.2"
  }
 },
 "nbformat": 4,
 "nbformat_minor": 5
}

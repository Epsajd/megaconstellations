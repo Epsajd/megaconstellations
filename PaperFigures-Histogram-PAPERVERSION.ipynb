{
 "cells": [
  {
   "cell_type": "code",
   "execution_count": 19,
   "metadata": {},
   "outputs": [],
   "source": [
    "import numpy as np\n",
    "import rebound\n",
    "import matplotlib.pyplot as plt\n",
    "from matplotlib.collections import PatchCollection\n",
    "from matplotlib.lines import Line2D\n",
    "from matplotlib.patches import Rectangle\n",
    "from matplotlib.legend_handler import HandlerBase\n",
    "MEarth = 5.97e24\n",
    "REarth = 6378.135e3"
   ]
  },
  {
   "cell_type": "code",
   "execution_count": 20,
   "metadata": {},
   "outputs": [],
   "source": [
    "visor,magC,adu,npix,bkgnd,streak,rate = np.genfromtxt(\"mags-streaks.dat\",usecols=(1,2,3,4,5,6,7),unpack=True)\n",
    "gmag = -2.5*np.log10(adu - npix*bkgnd) + magC -2.5 * np.log10(30* rate/streak)"
   ]
  },
  {
   "cell_type": "code",
   "execution_count": 21,
   "metadata": {},
   "outputs": [
    {
     "name": "stdout",
     "output_type": "stream",
     "text": [
      "Starlink2\n"
     ]
    }
   ],
   "source": [
    "constellations = {\n",
    "    \"Starlink2\": [ {'NPLANES':32,'SATPP':50,'INC':53,'ALT':550},\n",
    "        {'NPLANES':72,'SATPP':22,'INC':53.2,'ALT':540},\n",
    "        {'NPLANES':36,'SATPP':20,'INC':70,'ALT':570},\n",
    "        {'NPLANES':6,'SATPP':58,'INC':97.6,'ALT':560},\n",
    "        {'NPLANES':4,'SATPP':43,'INC':97.6,'ALT':560.1},],\n",
    "    }\n",
    "\n",
    "\n",
    "def add_to_simulation(sim, ICs, debug=False):\n",
    "    for IC in ICs:\n",
    "        nplanes=IC['NPLANES']\n",
    "        nsat=IC['SATPP']\n",
    "        a = IC['ALT']*1000.+REarth\n",
    "\n",
    "        Omegas = np.linspace(0.,2.*np.pi,nplanes)\n",
    "        for i, Omega in enumerate(Omegas):\n",
    "            # 5 percent jitter\n",
    "            Ms = np.linspace(0.,2.*np.pi,nsat)+ 2.*np.pi/nsat*0.25*np.random.normal(size=nsat)\n",
    "            for j, M in enumerate(Ms):\n",
    "                sim.add(M=M, a=a, omega=0, e=0, Omega=Omega, inc=IC['INC']*np.pi/180.)\n",
    "                if debug and sim.N>100:\n",
    "                    return\n",
    "def rotY(xyz,alpha):\n",
    "    c, s = np.cos(alpha), np.sin(alpha)\n",
    "    M = np.array([[c,0,-s],[0,1,0],[s,0,c]])\n",
    "    return xyz @ M\n",
    "def rotZ(xyz,alpha):\n",
    "    c, s = np.cos(alpha), np.sin(alpha)\n",
    "    M = np.array([[c,-s,0],[s,c,0],[0,0,1]])\n",
    "    return xyz @ M\n",
    "def length_of_night(timeOfYear,latitude, p=0):\n",
    "    # https://www.ikhebeenvraag.be/mediastorage/FSDocument/171/Forsythe+-+A+model+comparison+for+daylength+as+a+function+of+latitude+and+day+of+year+-+1995.pdf\n",
    "    # p=18 for astronomical twilight\n",
    "    theta = 2.*np.arctan(0.9671396*np.tan(-timeOfYear/2.+np.pi/4.))\n",
    "    phi = np.arcsin(0.39795*np.cos(theta))\n",
    "    return 24./np.pi * np.arccos((np.sin(p*np.pi/180.)+np.sin(latitude*np.pi/180.)*np.sin(phi))/(np.cos(latitude*np.pi/180.)*np.cos(phi)))\n",
    "\n",
    "def get_stereographic_data(sims, latitude, month, hour, albedo, area):\n",
    "    # latitude in degrees\n",
    "    # month in months from spring euquinox\n",
    "    # hours in hours since midnight\n",
    "    latitude = latitude/180.*np.pi \n",
    "    tilt = 23.4*np.sin(month/6.*np.pi)/180.*np.pi\n",
    "    hour = hour/12.*np.pi\n",
    "    xy, mag = [], []     \n",
    "    for name in sims:\n",
    "        sim = sims[name]\n",
    "        sun = np.array([-1.4959787e+11,0,0]) # in m\n",
    "        sun = rotY(sun, tilt)\n",
    "        sun_n = sun/np.linalg.norm(sun)\n",
    "\n",
    "        obs = np.array([REarth, 0, 0])\n",
    "        obs = rotY(obs, -latitude)\n",
    "        obs = rotZ(obs, hour)\n",
    "        obs_n = obs/np.linalg.norm(obs)\n",
    "\n",
    "        xyz = np.zeros((sim.N,3),dtype=\"float64\")\n",
    "        sim.serialize_particle_data(xyz=xyz)\n",
    "        xyz = xyz[1:] # remove earth\n",
    "\n",
    "\n",
    "        lit = np.linalg.norm(np.cross(xyz,sun_n),axis=1)>REarth\n",
    "\n",
    "        xyz = xyz[lit]\n",
    "\n",
    "        xyz_n = xyz/np.linalg.norm(xyz,axis=1)[:,np.newaxis]\n",
    "        xyz_r = xyz - obs\n",
    "        xyz_rd = np.linalg.norm(xyz_r,axis=1)\n",
    "        xyz_rn = xyz_r/xyz_rd[:,np.newaxis]\n",
    "\n",
    "        phase = np.arccos(np.clip(np.dot(xyz_rn, -sun_n), -1.0, 1.0)) # assume sun is in -x direction\n",
    "\n",
    "        fac1 = 2/(3*np.pi**2)\n",
    "        magV = -26.44 -2.5*np.log10(fac1 * area * albedo * ( (np.pi-phase)*np.cos(phase) + np.sin(phase) ) ) + 5 * np.log10(xyz_rd)\n",
    "\n",
    "\n",
    "        elevation = (np.pi/2.-np.arccos(np.dot(xyz_rn,obs_n)))/np.pi*180.\n",
    "\n",
    "        xyz = rotZ(xyz, -hour)\n",
    "        xyz = rotY(xyz, latitude)\n",
    "        xyz_r = xyz - np.array([REarth, 0, 0])\n",
    "        xyz_rd = np.linalg.norm(xyz_r,axis=1)\n",
    "        xyz_rn = xyz_r/xyz_rd[:,np.newaxis]\n",
    "\n",
    "        elevation_cut = 0\n",
    "        xyz_rn = xyz_rn[elevation>elevation_cut]\n",
    "        magV = magV[elevation>elevation_cut]\n",
    "\n",
    "        xy.append(xyz_rn[:,1:3]/(1.+xyz_rn[:,0,np.newaxis]))\n",
    "        mag.append(magV)\n",
    "    if len(xy)>0:\n",
    "        return np.concatenate(xy), np.concatenate(mag) \n",
    "    else:\n",
    "        return None, None\n",
    "\n",
    "\n",
    "def get_simulations(add_constellations=None, use_cache=True):\n",
    "    if add_constellations is None:\n",
    "        add_constellations = constellations.keys() # all constellations\n",
    "    sims = {}\n",
    "    for c in add_constellations:\n",
    "        print(c)\n",
    "        if c not in constellations:\n",
    "            raise RuntimeError(\"Constellation %s not found.\"%c)\n",
    "        sim = None\n",
    "        if use_cache:\n",
    "            filename = \"mega_\"+\"\".join(x for x in c if x.isalnum())+\".bin\"\n",
    "            try:\n",
    "                sim = rebound.Simulation(filename)\n",
    "            except:\n",
    "                # need to create simulation\n",
    "                pass\n",
    "        if sim is None:\n",
    "            sim = rebound.Simulation()\n",
    "            sim.G = 6.67430e-11\n",
    "            sim.add(m=MEarth)\n",
    "            sim.N_active = 1\n",
    "            add_to_simulation(sim, constellations[c])\n",
    "            if use_cache:\n",
    "                sim.save(filename)\n",
    "        sims[c] = sim\n",
    "    return sims\n",
    "sims = get_simulations(add_constellations=['Starlink2'])"
   ]
  },
  {
   "cell_type": "code",
   "execution_count": 22,
   "metadata": {},
   "outputs": [],
   "source": [
    "#def generate_fig(filename=None, latitude=50., months=[-3,0,3], hours=[-3,0,3]): \n",
    "def generate_fig(filename=None, latitude=0): \n",
    "    # latitude in degrees\n",
    "    # months since spring equinox\n",
    "    # hours since midnight\n",
    "    fig = plt.figure(figsize=(8,6))\n",
    "    ax = fig.add_subplot(111)\n",
    "    hour=-1.5\n",
    "    month=3.7\n",
    "    albedo=0.3\n",
    "    area=4\n",
    "    xy, mag = get_stereographic_data(sims, latitude=latitude, month=month, hour=hour, albedo=albedo, area=area)\n",
    "    xyall=xy\n",
    "    magall=mag\n",
    "    for hour in np.arange(-1.25,1.6,0.25):\n",
    "        xy1, mag1 = get_stereographic_data(sims, latitude=latitude, month=month, hour=hour, albedo=albedo, area=area)\n",
    "        xy=np.append(xy,xy1,axis=0)\n",
    "        mag=np.append(mag,mag1,axis=0)\n",
    "    mag+=np.random.normal(0.,0.2,size=len(mag))\n",
    "    xy2=xy[xy[:,1]<0]\n",
    "    xy3=np.sqrt(xy2[:,1]**2.+xy2[:,0]**2.)\n",
    "    xy4=xy2[xy3<np.pi/4.]\n",
    "    mag2=mag[xy[:,1]<0]\n",
    "    mag4=mag2[xy3<np.pi/4.]\n",
    "\n",
    "    gmagbins = np.linspace(1,10,10)\n",
    "    ax.set_xlabel(r\"$m_{g'}$\",fontsize=16)\n",
    "    ax.set_ylabel(\"Satellites per Bin (model)\",fontsize=16)\n",
    "    magbins = np.linspace(1,10,30)\n",
    "    ax.set_xlim([3,9])\n",
    "    ax.set_ylim([0,30])\n",
    "\n",
    "    n, bins, patches = ax.hist(mag4,bins=magbins,histtype='stepfilled',color=\"#A4A4A4\",lw=3,zorder=-10)\n",
    "    bin_centers = 0.5 * (bins[:-1] + bins[1:])\n",
    "    \n",
    "    ax2 = ax.twinx()\n",
    "    ax2.hist(gmag,bins=gmagbins,histtype=\"step\",edgecolor=\"b\",hatch='\\\\',lw=0.5)\n",
    "    ax2.text(7.2,7.5,'modelled',c='#A4A4A4',fontsize=14)\n",
    "    ax2.text(7.2,7.1,'observed-Starlink',c='b',fontsize=14)\n",
    "    ax2.text(9.3,3.5,\"Satellites per Bin (observed)\",fontsize=16,verticalalignment='center',rotation=-90)\n",
    "    plt.ylim(0,8)\n",
    "            \n",
    "\n",
    "    if filename is not None:\n",
    "        plt.savefig(filename,facecolor='white', transparent=False,dpi=200)\n",
    "        plt.close(fig)\n",
    "    "
   ]
  },
  {
   "cell_type": "code",
   "execution_count": 23,
   "metadata": {
    "scrolled": true
   },
   "outputs": [
    {
     "data": {
      "image/png": "[encoded data removed]",
      "text/plain": [
       "<Figure size 576x432 with 2 Axes>"
      ]
     },
     "metadata": {
      "needs_background": "light"
     },
     "output_type": "display_data"
    }
   ],
   "source": [
    "generate_fig(latitude=48.5)"
   ]
  },
  {
   "cell_type": "code",
   "execution_count": 24,
   "metadata": {
    "scrolled": false
   },
   "outputs": [],
   "source": [
    "generate_fig(\"hist_lamb.png\", latitude=48.5)"
   ]
  },
  {
   "cell_type": "code",
   "execution_count": null,
   "metadata": {},
   "outputs": [],
   "source": []
  },
  {
   "cell_type": "code",
   "execution_count": null,
   "metadata": {},
   "outputs": [],
   "source": []
  }
 ],
 "metadata": {
  "kernelspec": {
   "display_name": "Python 3",
   "language": "python",
   "name": "python3"
  },
  "language_info": {
   "codemirror_mode": {
    "name": "ipython",
    "version": 3
   },
   "file_extension": ".py",
   "mimetype": "text/x-python",
   "name": "python",
   "nbconvert_exporter": "python",
   "pygments_lexer": "ipython3",
   "version": "3.7.7"
  }
 },
 "nbformat": 4,
 "nbformat_minor": 5
}

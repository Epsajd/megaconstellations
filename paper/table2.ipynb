{
 "cells": [
  {
   "cell_type": "code",
   "execution_count": 19,
   "metadata": {},
   "outputs": [],
   "source": [
    "import numpy as np\n",
    "import sys\n",
    "sys.path.insert(0,'../model')\n",
    "import mega"
   ]
  },
  {
   "cell_type": "code",
   "execution_count": 20,
   "metadata": {},
   "outputs": [],
   "source": [
    "hip = np.genfromtxt('../data/hipparcos-bright-result.csv', delimiter=',',skip_header=1,usecols=[1])\n",
    "visor,magC,adu,npix,bkgnd,streak,rate = np.genfromtxt(\"../data/mags-streaks.dat\",usecols=(1,2,3,4,5,6,7),unpack=True)\n",
    "gmag = -2.5*np.log10(adu - npix*bkgnd) + magC -2.5 * np.log10(30* rate/streak)"
   ]
  },
  {
   "cell_type": "code",
   "execution_count": 21,
   "metadata": {},
   "outputs": [],
   "source": [
    "sims = mega.get_simulations()"
   ]
  },
  {
   "cell_type": "code",
   "execution_count": 22,
   "metadata": {},
   "outputs": [
    {
     "name": "stdout",
     "output_type": "stream",
     "text": [
      "\\multicolumn{3}{c}{\\textbf{Background stars}}& \\textbf{1608} & & \\textbf{8789} & & \\textbf{15404} & 60$^{\\circ}$N/S & summer  & midnight           &  32 & 4\\% & 407 & 8\\% & 621 & 7\\% \\\\ \n",
      "                & equinox & midnight           &   0 & 0\\% &  14 & 0\\% &  26 & 0\\% \\\\ \n",
      "                &         & nautical dusk/dawn &  14 & 2\\% & 214 & 5\\% & 359 & 4\\% \\\\ \\hline\n",
      "50$^{\\circ}$N/S & summer  & midnight           &  72 & 8\\% & 321 & 7\\% & 497 & 6\\% \\\\ \n",
      "                &         & nautical dusk/dawn & 105 & 12\\% & 440 & 9\\% & 663 & 8\\% \\\\ \n",
      "                & equinox & midnight           &   0 & 0\\% &   0 & 0\\% &   0 & 0\\% \\\\ \n",
      "                &         & nautical dusk/dawn & 130 & 14\\% & 395 & 8\\% & 562 & 7\\% \\\\ \\hline\n",
      "40$^{\\circ}$N/S & summer  & midnight           &   0 & 0\\% &  58 & 1\\% & 112 & 1\\% \\\\ \n",
      "                &         & nautical dusk/dawn & 125 & 13\\% & 435 & 9\\% & 645 & 8\\% \\\\ \n",
      "                & equinox & midnight           &   0 & 0\\% &   0 & 0\\% &   0 & 0\\% \\\\ \n",
      "                &         & nautical dusk/dawn & 100 & 11\\% & 436 & 9\\% & 679 & 8\\% \\\\ \\hline\n",
      "30$^{\\circ}$N/S & summer  & midnight           &   0 & 0\\% &   1 & 0\\% &   7 & 0\\% \\\\ \n",
      "                &         & nautical dusk/dawn & 122 & 13\\% & 412 & 9\\% & 601 & 7\\% \\\\ \n",
      "                & equinox & midnight           &   0 & 0\\% &   0 & 0\\% &   0 & 0\\% \\\\ \n",
      "                &         & nautical dusk/dawn & 101 & 11\\% & 424 & 9\\% & 631 & 8\\% \\\\ \\hline\n",
      "20$^{\\circ}$N/S & summer  & midnight           &   0 & 0\\% &   0 & 0\\% &   0 & 0\\% \\\\ \n",
      "                &         & nautical dusk/dawn &  88 & 10\\% & 327 & 7\\% & 523 & 6\\% \\\\ \n",
      "                & equinox & midnight           &   0 & 0\\% &   0 & 0\\% &   0 & 0\\% \\\\ \n",
      "                &         & nautical dusk/dawn &  92 & 10\\% & 356 & 7\\% & 534 & 6\\% \\\\ \\hline\n"
     ]
    }
   ],
   "source": [
    "print(\"\\\\multicolumn{3}{c}{\\\\textbf{Background stars}}& \",end='')\n",
    "for l, maglim in enumerate([5.,6.5,7.]):                    \n",
    "    print(\"\\\\textbf{%d} & \"%len(hip[hip<maglim]), end='')\n",
    "    if l!=2:\n",
    "        print(\"& \", end='')\n",
    "#print(\"\\\\\\\\ \\hline\")\n",
    "\n",
    "for i, latitude in enumerate([60,50,40,30,20]):\n",
    "    for j, month in enumerate([3,0]):\n",
    "        hours = [0]\n",
    "        lon = mega.length_of_night(month=month, latitude=latitude, p=12)\n",
    "        if lon>0:\n",
    "            hours.append(lon/2.)\n",
    "        for k, hour in enumerate(hours):\n",
    "            if j==0 and k==0:\n",
    "                print(\"%2.0f$^{\\circ}$N/S & \"%latitude, end='')\n",
    "            else:\n",
    "                print(\"                & \",end='')\n",
    "\n",
    "            if k==0:\n",
    "                if month==3:\n",
    "                    print(\"summer  & \",end='')\n",
    "                elif month==0:\n",
    "                    print(\"equinox & \",end='')\n",
    "                else:\n",
    "                    print(\"        &\",end='')\n",
    "            else:\n",
    "                print(\"        & \",end=\"\")\n",
    "\n",
    "            if hour==0:\n",
    "                print(\"midnight           & \", end='')\n",
    "            else:\n",
    "                print(\"nautical dusk/dawn & \", end='')    \n",
    "            for l, maglim in enumerate([5.,6.5,7.]):    \n",
    "                vissats = 0\n",
    "                oversample = 10\n",
    "                for m in range(oversample):                    \n",
    "                    xy, mag = mega.get_stereographic_data(sims,latitude=latitude, month=month, hour=hour, airmassCoeff=0.0, randomCoeff=0.2)\n",
    "                    vissats += len(mag[mag<maglim])\n",
    "                vissats /= oversample\n",
    "                print(\"%3.0f & \"%vissats, end='')\n",
    "                print(\"%.0f\\%% \"% (vissats/(vissats+len(hip[hip<maglim])/2.)*100.), end='')\n",
    "                if l!=2:\n",
    "                    print(\"& \",end='')\n",
    "                else:\n",
    "                    print(\"\\\\\\\\ \",end='')\n",
    "            if k==1 and j==1:\n",
    "                print(\"\\\\hline\", end='')\n",
    "            print(\"\")\n"
   ]
  },
  {
   "cell_type": "code",
   "execution_count": 23,
   "metadata": {},
   "outputs": [
    {
     "data": {
      "text/plain": [
       "26.55461426681228"
      ]
     },
     "execution_count": 23,
     "metadata": {},
     "output_type": "execute_result"
    }
   ],
   "source": [
    "#all sky flux/sq. degree\n",
    "sum(100**((-hip)/5.)*3631.)/20626.5"
   ]
  },
  {
   "cell_type": "code",
   "execution_count": 24,
   "metadata": {
    "scrolled": false
   },
   "outputs": [
    {
     "data": {
      "text/plain": [
       "0.5635949244521643"
      ]
     },
     "execution_count": 24,
     "metadata": {},
     "output_type": "execute_result"
    }
   ],
   "source": [
    "#all sky flux/sq. degree for satellites\n",
    "xy, mag = mega.get_stereographic_data(sims, latitude=50, month=3, hour=-3)\n",
    "sum(100**((-mag)/5.)*3631.)/20626.5"
   ]
  },
  {
   "cell_type": "code",
   "execution_count": null,
   "metadata": {},
   "outputs": [],
   "source": []
  },
  {
   "cell_type": "code",
   "execution_count": null,
   "metadata": {},
   "outputs": [],
   "source": []
  }
 ],
 "metadata": {
  "kernelspec": {
   "display_name": "Python 3",
   "language": "python",
   "name": "python3"
  },
  "language_info": {
   "codemirror_mode": {
    "name": "ipython",
    "version": 3
   },
   "file_extension": ".py",
   "mimetype": "text/x-python",
   "name": "python",
   "nbconvert_exporter": "python",
   "pygments_lexer": "ipython3",
   "version": "3.7.7"
  }
 },
 "nbformat": 4,
 "nbformat_minor": 5
}

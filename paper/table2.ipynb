{
 "cells": [
  {
   "cell_type": "code",
   "execution_count": 13,
   "metadata": {},
   "outputs": [],
   "source": [
    "import numpy as np\n",
    "import sys\n",
    "sys.path.insert(0,'../model')\n",
    "import mega"
   ]
  },
  {
   "cell_type": "code",
   "execution_count": 14,
   "metadata": {},
   "outputs": [],
   "source": [
    "hip = np.genfromtxt('../data/hipparcos-bright-result.csv', delimiter=',',skip_header=1,usecols=[1])\n",
    "visor,magC,adu,npix,bkgnd,streak,rate = np.genfromtxt(\"../data/mags-streaks.dat\",usecols=(1,2,3,4,5,6,7),unpack=True)\n",
    "gmag = -2.5*np.log10(adu - npix*bkgnd) + magC -2.5 * np.log10(30* rate/streak)"
   ]
  },
  {
   "cell_type": "code",
   "execution_count": 15,
   "metadata": {},
   "outputs": [],
   "source": [
    "sims = mega.get_simulations()"
   ]
  },
  {
   "cell_type": "code",
   "execution_count": 16,
   "metadata": {},
   "outputs": [
    {
     "name": "stdout",
     "output_type": "stream",
     "text": [
      "\\multicolumn{3}{c}{\\textbf{Background stars}}& \\textbf{1608} & & \\textbf{8789} & & \\textbf{15404} & 60$^{\\circ}$N/S & summer  & midnight           &  21 & 3\\% & 294 & 6\\% & 476 & 6\\% \\\\ \n",
      "                & equinox & midnight           &   0 & 0\\% &   9 & 0\\% &  18 & 0\\% \\\\ \n",
      "                &         & nautical dusk/dawn &  11 & 1\\% & 139 & 3\\% & 247 & 3\\% \\\\ \\hline\n",
      "50$^{\\circ}$N/S & summer  & midnight           &  48 & 6\\% & 255 & 5\\% & 383 & 5\\% \\\\ \n",
      "                &         & nautical dusk/dawn &  64 & 7\\% & 319 & 7\\% & 485 & 6\\% \\\\ \n",
      "                & equinox & midnight           &   0 & 0\\% &   0 & 0\\% &   0 & 0\\% \\\\ \n",
      "                &         & nautical dusk/dawn &  72 & 8\\% & 308 & 7\\% & 441 & 5\\% \\\\ \\hline\n",
      "40$^{\\circ}$N/S & summer  & midnight           &   0 & 0\\% &  34 & 1\\% &  70 & 1\\% \\\\ \n",
      "                &         & nautical dusk/dawn &  82 & 9\\% & 322 & 7\\% & 490 & 6\\% \\\\ \n",
      "                & equinox & midnight           &   0 & 0\\% &   0 & 0\\% &   0 & 0\\% \\\\ \n",
      "                &         & nautical dusk/dawn &  77 & 9\\% & 318 & 7\\% & 494 & 6\\% \\\\ \\hline\n",
      "30$^{\\circ}$N/S & summer  & midnight           &   0 & 0\\% &   1 & 0\\% &   5 & 0\\% \\\\ \n",
      "                &         & nautical dusk/dawn &  76 & 9\\% & 297 & 6\\% & 454 & 6\\% \\\\ \n",
      "                & equinox & midnight           &   0 & 0\\% &   0 & 0\\% &   0 & 0\\% \\\\ \n",
      "                &         & nautical dusk/dawn &  75 & 9\\% & 312 & 7\\% & 471 & 6\\% \\\\ \\hline\n",
      "20$^{\\circ}$N/S & summer  & midnight           &   0 & 0\\% &   0 & 0\\% &   0 & 0\\% \\\\ \n",
      "                &         & nautical dusk/dawn &  62 & 7\\% & 238 & 5\\% & 378 & 5\\% \\\\ \n",
      "                & equinox & midnight           &   0 & 0\\% &   0 & 0\\% &   0 & 0\\% \\\\ \n",
      "                &         & nautical dusk/dawn &  57 & 7\\% & 262 & 6\\% & 399 & 5\\% \\\\ \\hline\n"
     ]
    }
   ],
   "source": [
    "print(\"\\\\multicolumn{3}{c}{\\\\textbf{Background stars}}& \",end='')\n",
    "for l, maglim in enumerate([5.,6.5,7.]):                    \n",
    "    print(\"\\\\textbf{%d} & \"%len(hip[hip<maglim]), end='')\n",
    "    if l!=2:\n",
    "        print(\"& \", end='')\n",
    "#print(\"\\\\\\\\ \\hline\")\n",
    "\n",
    "for i, latitude in enumerate([60,50,40,30,20]):\n",
    "    for j, month in enumerate([3,0]):\n",
    "        hours = [0]\n",
    "        lon = mega.length_of_night(month=month, latitude=latitude, p=12)\n",
    "        if lon>0:\n",
    "            hours.append(lon/2.)\n",
    "        for k, hour in enumerate(hours):\n",
    "            if j==0 and k==0:\n",
    "                print(\"%2.0f$^{\\circ}$N/S & \"%latitude, end='')\n",
    "            else:\n",
    "                print(\"                & \",end='')\n",
    "\n",
    "            if k==0:\n",
    "                if month==3:\n",
    "                    print(\"summer  & \",end='')\n",
    "                elif month==0:\n",
    "                    print(\"equinox & \",end='')\n",
    "                else:\n",
    "                    print(\"        &\",end='')\n",
    "            else:\n",
    "                print(\"        & \",end=\"\")\n",
    "\n",
    "            if hour==0:\n",
    "                print(\"midnight           & \", end='')\n",
    "            else:\n",
    "                print(\"nautical dusk/dawn & \", end='')    \n",
    "            for l, maglim in enumerate([5.,6.5,7.]):    \n",
    "                vissats = 0\n",
    "                oversample = 10\n",
    "                for m in range(oversample):                    \n",
    "                    xy, mag = mega.get_stereographic_data(sims,latitude=latitude, month=month, hour=hour, airmassCoeff=0.0)\n",
    "                    vissats += len(mag[mag<maglim])\n",
    "                vissats /= oversample\n",
    "                print(\"%3.0f & \"%vissats, end='')\n",
    "                print(\"%.0f\\%% \"% (vissats/(vissats+len(hip[hip<maglim])/2.)*100.), end='')\n",
    "                if l!=2:\n",
    "                    print(\"& \",end='')\n",
    "                else:\n",
    "                    print(\"\\\\\\\\ \",end='')\n",
    "            if k==1 and j==1:\n",
    "                print(\"\\\\hline\", end='')\n",
    "            print(\"\")\n"
   ]
  },
  {
   "cell_type": "code",
   "execution_count": 17,
   "metadata": {},
   "outputs": [
    {
     "data": {
      "text/plain": [
       "13.27730713340614"
      ]
     },
     "execution_count": 17,
     "metadata": {},
     "output_type": "execute_result"
    }
   ],
   "source": [
    "#all sky flux/sq. degree\n",
    "sum(100**((-hip)/5.)*3631.)/41253"
   ]
  },
  {
   "cell_type": "code",
   "execution_count": 18,
   "metadata": {
    "scrolled": false
   },
   "outputs": [
    {
     "data": {
      "text/plain": [
       "0.36598819866233945"
      ]
     },
     "execution_count": 18,
     "metadata": {},
     "output_type": "execute_result"
    }
   ],
   "source": [
    "#all sky flux/sq. degree for satellites\n",
    "xy, mag = mega.get_stereographic_data(sims, latitude=50, month=3, hour=-3, airmassCoeff=0.0)\n",
    "sum(100**((-mag)/5.)*3631.)/41253"
   ]
  },
  {
   "cell_type": "code",
   "execution_count": null,
   "metadata": {},
   "outputs": [],
   "source": []
  },
  {
   "cell_type": "code",
   "execution_count": null,
   "metadata": {},
   "outputs": [],
   "source": []
  }
 ],
 "metadata": {
  "kernelspec": {
   "display_name": "Python 3",
   "language": "python",
   "name": "python3"
  },
  "language_info": {
   "codemirror_mode": {
    "name": "ipython",
    "version": 3
   },
   "file_extension": ".py",
   "mimetype": "text/x-python",
   "name": "python",
   "nbconvert_exporter": "python",
   "pygments_lexer": "ipython3",
   "version": "3.7.7"
  }
 },
 "nbformat": 4,
 "nbformat_minor": 5
}

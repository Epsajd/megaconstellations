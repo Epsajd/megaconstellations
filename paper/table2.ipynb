{
 "cells": [
  {
   "cell_type": "code",
   "execution_count": 1,
   "id": "a5cf78c1",
   "metadata": {},
   "outputs": [],
   "source": [
    "import numpy as np\n",
    "import sys\n",
    "sys.path.insert(0,'../model')\n",
    "import mega"
   ]
  },
  {
   "cell_type": "code",
   "execution_count": 2,
   "id": "46770aaa",
   "metadata": {},
   "outputs": [],
   "source": [
    "hip = np.genfromtxt('../data/hipparcos-bright-result.csv', delimiter=',',skip_header=1,usecols=[1])\n",
    "visor,magC,adu,npix,bkgnd,streak,rate = np.genfromtxt(\"../data/mags-streaks.dat\",usecols=(1,2,3,4,5,6,7),unpack=True)\n",
    "gmag = -2.5*np.log10(adu - npix*bkgnd) + magC -2.5 * np.log10(30* rate/streak)"
   ]
  },
  {
   "cell_type": "code",
   "execution_count": 3,
   "id": "1854de8d",
   "metadata": {},
   "outputs": [],
   "source": [
    "sims = mega.get_simulations()"
   ]
  },
  {
   "cell_type": "code",
   "execution_count": 4,
   "id": "3bdd33f9",
   "metadata": {},
   "outputs": [
    {
     "name": "stdout",
     "output_type": "stream",
     "text": [
      "\\multicolumn{3}{c}{\\textbf{Background stars}}& \\textbf{1608} & & \\textbf{8789} & & \\textbf{15404} & \\\\ \\hline\n",
      "60$^{\\circ}$N/S & summer  & midnight           &  36 & 2\\% & 417 & 5\\% & 633 & 4\\% \\\\ \n",
      "                & equinox & midnight           &   0 & 0\\% &  18 & 0\\% &  28 & 0\\% \\\\ \n",
      "                &         & nautical dusk/dawn &  22 & 1\\% & 239 & 3\\% & 373 & 2\\% \\\\ \\hline\n",
      "50$^{\\circ}$N/S & summer  & midnight           &  70 & 4\\% & 336 & 4\\% & 490 & 3\\% \\\\ \n",
      "                &         & nautical dusk/dawn &  98 & 6\\% & 419 & 5\\% & 635 & 4\\% \\\\ \n",
      "                & equinox & midnight           &   0 & 0\\% &   0 & 0\\% &   0 & 0\\% \\\\ \n",
      "                &         & nautical dusk/dawn & 130 & 8\\% & 416 & 5\\% & 575 & 4\\% \\\\ \\hline\n",
      "40$^{\\circ}$N/S & summer  & midnight           &   0 & 0\\% &  67 & 1\\% & 120 & 1\\% \\\\ \n",
      "                &         & nautical dusk/dawn & 122 & 7\\% & 425 & 5\\% & 647 & 4\\% \\\\ \n",
      "                & equinox & midnight           &   0 & 0\\% &   0 & 0\\% &   0 & 0\\% \\\\ \n",
      "                &         & nautical dusk/dawn & 112 & 7\\% & 421 & 5\\% & 665 & 4\\% \\\\ \\hline\n",
      "30$^{\\circ}$N/S & summer  & midnight           &   0 & 0\\% &   1 & 0\\% &   9 & 0\\% \\\\ \n",
      "                &         & nautical dusk/dawn & 130 & 7\\% & 428 & 5\\% & 630 & 4\\% \\\\ \n",
      "                & equinox & midnight           &   0 & 0\\% &   0 & 0\\% &   0 & 0\\% \\\\ \n",
      "                &         & nautical dusk/dawn & 104 & 6\\% & 411 & 4\\% & 614 & 4\\% \\\\ \\hline\n",
      "20$^{\\circ}$N/S & summer  & midnight           &   0 & 0\\% &   0 & 0\\% &   0 & 0\\% \\\\ \n",
      "                &         & nautical dusk/dawn &  92 & 5\\% & 343 & 4\\% & 533 & 3\\% \\\\ \n",
      "                & equinox & midnight           &   0 & 0\\% &   0 & 0\\% &   0 & 0\\% \\\\ \n",
      "                &         & nautical dusk/dawn &  96 & 6\\% & 372 & 4\\% & 553 & 3\\% \\\\ \\hline\n"
     ]
    }
   ],
   "source": [
    "print(\"\\\\multicolumn{3}{c}{\\\\textbf{Background stars}}& \",end='')\n",
    "for l, maglim in enumerate([5.,6.5,7.]):                    \n",
    "    print(\"\\\\textbf{%d} & \"%len(hip[hip<maglim]), end='')\n",
    "    if l!=2:\n",
    "        print(\"& \", end='')\n",
    "print(\"\\\\\\\\ \\hline\")\n",
    "\n",
    "for i, latitude in enumerate([60,50,40,30,20]):\n",
    "    for j, month in enumerate([3,0]):\n",
    "        hours = [0]\n",
    "        lon = mega.length_of_night(month=month, latitude=latitude, p=12)\n",
    "        if lon>0:\n",
    "            hours.append(lon/2.)\n",
    "        for k, hour in enumerate(hours):\n",
    "            if j==0 and k==0:\n",
    "                print(\"%2.0f$^{\\circ}$N/S & \"%latitude, end='')\n",
    "            else:\n",
    "                print(\"                & \",end='')\n",
    "\n",
    "            if k==0:\n",
    "                if month==3:\n",
    "                    print(\"summer  & \",end='')\n",
    "                elif month==0:\n",
    "                    print(\"equinox & \",end='')\n",
    "                else:\n",
    "                    print(\"        &\",end='')\n",
    "            else:\n",
    "                print(\"        & \",end=\"\")\n",
    "\n",
    "            if hour==0:\n",
    "                print(\"midnight           & \", end='')\n",
    "            else:\n",
    "                print(\"nautical dusk/dawn & \", end='')    \n",
    "            for l, maglim in enumerate([5.,6.5,7.]):    \n",
    "                vissats = 0\n",
    "                oversample = 10\n",
    "                for m in range(oversample):                    \n",
    "                    xy, mag = mega.get_stereographic_data(sims,latitude=latitude, month=month, hour=hour, airmassCoeff=0.0, randomCoeff=0.2)\n",
    "                    vissats += len(mag[mag<maglim])\n",
    "                vissats /= oversample\n",
    "                print(\"%3.0f & \"%vissats, end='')\n",
    "                print(\"%.0f\\%% \"% (vissats/(vissats+len(hip[hip<maglim]))*100.), end='')\n",
    "                if l!=2:\n",
    "                    print(\"& \",end='')\n",
    "                else:\n",
    "                    print(\"\\\\\\\\ \",end='')\n",
    "            if k==1 and j==1:\n",
    "                print(\"\\\\hline\", end='')\n",
    "            print(\"\")\n"
   ]
  },
  {
   "cell_type": "code",
   "execution_count": 24,
   "id": "eee59c71",
   "metadata": {},
   "outputs": [
    {
     "data": {
      "text/plain": [
       "26.55461426681228"
      ]
     },
     "execution_count": 24,
     "metadata": {},
     "output_type": "execute_result"
    }
   ],
   "source": [
    "#all sky flux/sq. degree\n",
    "sum(100**((-hip)/5.)*3631.)/20626.5"
   ]
  },
  {
   "cell_type": "code",
   "execution_count": 25,
   "id": "ae653863",
   "metadata": {
    "scrolled": false
   },
   "outputs": [
    {
     "data": {
      "text/plain": [
       "1.0026694759293073"
      ]
     },
     "execution_count": 25,
     "metadata": {},
     "output_type": "execute_result"
    }
   ],
   "source": [
    "#all sky flux/sq. degree for satellites\n",
    "xy, mag = get_stereographic_data(sims, latitude=50, month=3, hour=-3)\n",
    "sum(100**((-mag)/5.)*3631.)/20626.5"
   ]
  },
  {
   "cell_type": "code",
   "execution_count": null,
   "id": "90b07a5d",
   "metadata": {},
   "outputs": [],
   "source": []
  },
  {
   "cell_type": "code",
   "execution_count": null,
   "id": "80be1231",
   "metadata": {},
   "outputs": [],
   "source": []
  }
 ],
 "metadata": {
  "kernelspec": {
   "display_name": "Python 3 (ipykernel)",
   "language": "python",
   "name": "python3"
  },
  "language_info": {
   "codemirror_mode": {
    "name": "ipython",
    "version": 3
   },
   "file_extension": ".py",
   "mimetype": "text/x-python",
   "name": "python",
   "nbconvert_exporter": "python",
   "pygments_lexer": "ipython3",
   "version": "3.8.2"
  }
 },
 "nbformat": 4,
 "nbformat_minor": 5
}

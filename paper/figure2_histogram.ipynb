{
 "cells": [
  {
   "cell_type": "code",
   "execution_count": 1,
   "metadata": {},
   "outputs": [],
   "source": [
    "import numpy as np\n",
    "import rebound\n",
    "import sys\n",
    "sys.path.insert(0,'../model')\n",
    "import mega\n",
    "import matplotlib.pyplot as plt"
   ]
  },
  {
   "cell_type": "code",
   "execution_count": 2,
   "metadata": {},
   "outputs": [],
   "source": [
    "# Get Starlink constellations near the 550km orbital shell\n",
    "constellations = {\"Starlink-550\": list(filter(lambda x: (abs(x[\"ALT\"]-550)<12 and abs(x[\"INC\"])>49), mega.constellations_all[\"Starlink\"]))}"
   ]
  },
  {
   "cell_type": "code",
   "execution_count": 3,
   "metadata": {},
   "outputs": [],
   "source": [
    "# Read in observational data\n",
    "magC,adu,npix,bkgnd,streak,rate = np.genfromtxt(\"../data/mags-streaks.dat\",usecols=(1,3,4,5,6,7),unpack=True)\n",
    "gmag = -2.5*np.log10(adu - npix*bkgnd) + magC -2.5 * np.log10(30* rate/streak)"
   ]
  },
  {
   "cell_type": "code",
   "execution_count": 4,
   "metadata": {},
   "outputs": [],
   "source": [
    "# Populate REBOUND simulations\n",
    "sims = mega.get_simulations(constellations)"
   ]
  },
  {
   "cell_type": "code",
   "execution_count": 5,
   "metadata": {},
   "outputs": [],
   "source": [
    "# Function to generate plots\n",
    "def generate_fig(filename=None, latitude=0): \n",
    "    # latitude in degrees\n",
    "    fig = plt.figure(figsize=(8,6))\n",
    "    ax = fig.add_subplot(111)\n",
    "    hour=-1.5\n",
    "    month=3.8\n",
    "    albedo=0.2\n",
    "    area=4 # --> gamma = 1.2\n",
    "    xy, mag = mega.get_stereographic_data(sims, latitude=latitude, month=month, hour=hour, albedo=albedo, area=area, airmassCoeff=0., elevation_cut = 45)\n",
    "    xyall = xy\n",
    "    magall = mag\n",
    "    for hour in np.arange(-1.25,1.3,0.05):\n",
    "        xy1, mag1 = mega.get_stereographic_data(sims, latitude=latitude, month=month, hour=hour, albedo=albedo, area=area, airmassCoeff=0., elevation_cut = 45)\n",
    "        xy = np.append(xy,xy1,axis=0)\n",
    "        mag = np.append(mag,mag1,axis=0)\n",
    "    #mag+=np.random.normal(0.,0.2,size=len(mag))\n",
    "    xy2=xy[xy[:,1]<0]\n",
    "    #xy3=np.sqrt(xy2[:,1]**2.+xy2[:,0]**2.)\n",
    "    #xy4=xy2[xy3<np.pi/4.]\n",
    "    #print(xy3[xy3<np.pi/4.])\n",
    "    mag2=mag[xy[:,1]<0]\n",
    "    #mag4=mag2[xy3<np.pi/4.]\n",
    "    xy4=xy\n",
    "    mag4=mag\n",
    "    \n",
    "    gmagbins = np.linspace(1,10,10)\n",
    "    ax.set_xlabel(r\"$m_{g'}$\",fontsize=16)\n",
    "    ax.set_ylabel(\"Satellites per Bin (model)\",fontsize=16)\n",
    "    magbins = np.linspace(1,10,30)\n",
    "    ax.set_xlim([3,9])\n",
    "    ax.set_ylim([0,100])\n",
    "\n",
    "    n, bins, patches = ax.hist(mag4,bins=magbins,histtype='stepfilled',color=\"#A4A4A4\",lw=3,zorder=-10)\n",
    "    bin_centers = 0.5 * (bins[:-1] + bins[1:])\n",
    "    \n",
    "    ax2 = ax.twinx()\n",
    "    ax2.hist(gmag,bins=gmagbins,histtype=\"step\",edgecolor=\"b\",hatch='\\\\',lw=0.5)\n",
    "    print(\"medians, real:\",np.median(gmag),\"model:\",np.median(mag4))\n",
    "    ax2.text(7.2,9.5,'modelled',c='#A4A4A4',fontsize=14)\n",
    "    ax2.text(7.2,8.9,'observed-Starlink',c='b',fontsize=14)\n",
    "    ax2.text(9.3,5,\"Satellites per Bin (observed)\",fontsize=16,verticalalignment='center',rotation=-90)\n",
    "    plt.ylim(0,10)\n",
    "            \n",
    "\n",
    "    if filename is not None:\n",
    "        plt.savefig(filename,facecolor='white', transparent=False,dpi=200)\n",
    "        plt.close(fig)\n",
    "    "
   ]
  },
  {
   "cell_type": "code",
   "execution_count": 6,
   "metadata": {
    "scrolled": true
   },
   "outputs": [
    {
     "name": "stdout",
     "output_type": "stream",
     "text": [
      "medians, real: 5.717310218959091 model: 5.529414941541052\n"
     ]
    },
    {
     "data": {
      "image/png": "[encoded data removed]",
      "text/plain": [
       "<Figure size 576x432 with 2 Axes>"
      ]
     },
     "metadata": {
      "needs_background": "light"
     },
     "output_type": "display_data"
    }
   ],
   "source": [
    "generate_fig(latitude=48.5)"
   ]
  },
  {
   "cell_type": "code",
   "execution_count": 7,
   "metadata": {
    "scrolled": false
   },
   "outputs": [
    {
     "name": "stdout",
     "output_type": "stream",
     "text": [
      "medians, real: 5.717310218959091 model: 5.622116745899151\n"
     ]
    }
   ],
   "source": [
    "generate_fig(\"maghist.png\", latitude=48.5)"
   ]
  },
  {
   "cell_type": "code",
   "execution_count": null,
   "metadata": {},
   "outputs": [],
   "source": []
  },
  {
   "cell_type": "code",
   "execution_count": null,
   "metadata": {},
   "outputs": [],
   "source": []
  },
  {
   "cell_type": "code",
   "execution_count": null,
   "metadata": {},
   "outputs": [],
   "source": []
  }
 ],
 "metadata": {
  "kernelspec": {
   "display_name": "Python 3",
   "language": "python",
   "name": "python3"
  },
  "language_info": {
   "codemirror_mode": {
    "name": "ipython",
    "version": 3
   },
   "file_extension": ".py",
   "mimetype": "text/x-python",
   "name": "python",
   "nbconvert_exporter": "python",
   "pygments_lexer": "ipython3",
   "version": "3.7.7"
  }
 },
 "nbformat": 4,
 "nbformat_minor": 5
}

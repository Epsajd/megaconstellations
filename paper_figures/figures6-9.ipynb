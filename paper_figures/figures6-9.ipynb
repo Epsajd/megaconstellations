{
 "cells": [
  {
   "cell_type": "code",
   "execution_count": 1,
   "id": "87efaac0",
   "metadata": {},
   "outputs": [],
   "source": [
    "import numpy as np\n",
    "import sys\n",
    "sys.path.insert(0,'../model')\n",
    "import mega\n",
    "import matplotlib.pyplot as plt\n",
    "from matplotlib.collections import PatchCollection\n",
    "cm = plt.cm.get_cmap('plasma_r')"
   ]
  },
  {
   "cell_type": "code",
   "execution_count": 2,
   "id": "e61c03d8",
   "metadata": {},
   "outputs": [],
   "source": [
    "sims = mega.get_simulations()\n",
    "\n",
    "def generate_fig(filename=None, latitude=50.,v_lim=[5, 8]): \n",
    "    months=[-3,0,3]\n",
    "    hours=[-3,0,3]\n",
    "    # latitude in degrees\n",
    "    # months since spring equinox\n",
    "    # hours since midnight\n",
    "    fig, axs = plt.subplots(len(hours),len(months),figsize=(11,10), constrained_layout=True, squeeze=False)\n",
    "    for i, hour in enumerate(hours):\n",
    "        for j, month in enumerate(months):\n",
    "            #print(hour,month)\n",
    "            xy, mag = mega.get_stereographic_data(sims, latitude=latitude, month=month, hour=hour, airmassCoeff=0.2, randomCoeff=0.2)\n",
    "\n",
    "            ax = axs[i][j] \n",
    "            ax.set_aspect(\"equal\")\n",
    "            r_lim = 1.02\n",
    "            ax.set_xlim(-r_lim,r_lim)\n",
    "            ax.set_ylim(-r_lim,r_lim)\n",
    "\n",
    "            # hide axes\n",
    "            ax.get_xaxis().set_ticks([])\n",
    "            ax.get_yaxis().set_ticks([])\n",
    "            for s in ax.spines:\n",
    "                ax.spines[s].set_visible(False)\n",
    "\n",
    "            # setup labels    \n",
    "            r_labels = 1.11    \n",
    "            for k, d in enumerate([\"N\",\"W\",\"S\",\"E\"]):\n",
    "                ax.text(r_labels*np.sin(k*np.pi/2.),r_labels*np.cos(k*np.pi/2.)-0.02, d, ha=\"center\", va=\"center\",fontsize=14)\n",
    "            ax.text(0.25,-1.2,\"N$_{tot}$=%d\"%len(xy),fontsize=18) \n",
    "            ax.text(0.25,-1.45,\"N$_{vis}$=%d\"%len(xy[mag<6.5]),fontsize=18) \n",
    "\n",
    "            # background\n",
    "            ax.add_collection(PatchCollection([plt.Circle((0, 0), 1)], zorder=-10, color=\"black\"))\n",
    "            ax.add_collection(PatchCollection([plt.Circle((0, 0), 1)], zorder=3, edgecolor=\"k\", facecolor=\"none\", lw=3))\n",
    "\n",
    "            # plot\n",
    "            im=ax.scatter(xy[:,0],xy[:,1],s=4, c=mag, cmap=cm,vmin=v_lim[0],vmax=v_lim[1])\n",
    "            if j==0: #time labels\n",
    "                if i==0:\n",
    "                    ax.text(-1.6,0,\"\\n9pm\",verticalalignment='center',rotation='vertical',fontsize=18) \n",
    "                if i==1:\n",
    "                    ax.text(-1.4,0,\"midnight\",verticalalignment='center',rotation='vertical',fontsize=18)\n",
    "                if i==2:\n",
    "                    ax.text(-1.4,0,\"3am\",verticalalignment='center',rotation='vertical',fontsize=18)\n",
    "            if i==0: #season labels\n",
    "                if j==0:\n",
    "                    ax.text(0,1.2,\"Winter Solstice\",horizontalalignment='center',fontsize=18)   \n",
    "                if j==1:\n",
    "                    ax.text(0,1.2,\"Equinox\",horizontalalignment='center',fontsize=18)\n",
    "                if j==2:\n",
    "                    ax.text(0,1.2,\"Summer Solstice\",horizontalalignment='center',fontsize=18)\n",
    "    cb = fig.colorbar(im,ax=axs,shrink=1./2.)\n",
    "    cb.set_label(label=\"Vmag\",size=18)\n",
    "    cb.ax.tick_params(labelsize=18)\n",
    "    cb.ax.text(0,8.5,str(int(latitude))+'$^{\\circ}$N',fontsize=22,horizontalalignment='left')\n",
    "    if filename is not None:\n",
    "        plt.savefig(filename,facecolor='white', transparent=False,dpi=200)\n",
    "        plt.close(fig)"
   ]
  },
  {
   "cell_type": "code",
   "execution_count": null,
   "id": "eeda6115",
   "metadata": {
    "scrolled": false
   },
   "outputs": [],
   "source": [
    "generate_fig(\"PH_hawaii.pdf\", latitude=20)\n",
    "generate_fig(\"PH_eq.pdf\", latitude=0)\n",
    "generate_fig(\"PH_north.pdf\", latitude=90)\n",
    "generate_fig(\"PH_canada.pdf\", latitude=50)"
   ]
  },
  {
   "cell_type": "code",
   "execution_count": null,
   "id": "85906566",
   "metadata": {},
   "outputs": [],
   "source": [
    "generate_fig(latitude=50.)"
   ]
  },
  {
   "cell_type": "code",
   "execution_count": null,
   "id": "9645b84f",
   "metadata": {},
   "outputs": [],
   "source": []
  }
 ],
 "metadata": {
  "kernelspec": {
   "display_name": "Python 3 (ipykernel)",
   "language": "python",
   "name": "python3"
  },
  "language_info": {
   "codemirror_mode": {
    "name": "ipython",
    "version": 3
   },
   "file_extension": ".py",
   "mimetype": "text/x-python",
   "name": "python",
   "nbconvert_exporter": "python",
   "pygments_lexer": "ipython3",
   "version": "3.8.2"
  }
 },
 "nbformat": 4,
 "nbformat_minor": 5
}
